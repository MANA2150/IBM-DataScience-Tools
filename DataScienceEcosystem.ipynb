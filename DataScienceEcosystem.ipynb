{
 "cells": [
  {
   "cell_type": "markdown",
   "id": "c60e7a64-fc30-472f-b256-b14e00322a64",
   "metadata": {},
   "source": [
    "<h1>Data Science Tools and Ecosystem</h1>"
   ]
  },
  {
   "cell_type": "markdown",
   "id": "52cccd70-1e85-49f9-956c-9ee623ed3e32",
   "metadata": {
    "tags": []
   },
   "source": [
    "<blockquote>In this notebook, Data Science Tools and Ecosystem are summarized.</blockquote>"
   ]
  },
  {
   "cell_type": "markdown",
   "id": "f5b8ffc7-d03c-4888-bbaf-4a99c835c143",
   "metadata": {},
   "source": [
    ">**Objectives:**\n",
    "<ul>\n",
    "<li>List popular languages for Data Science</li>\n",
    "<li>List popular languages that Data Scientists use</li>\n",
    "<li>Table of Data Science Tools</li>\n",
    "<li>Converted 200 minutes to hours by diving by 60</li>\n",
    "</ul>"
   ]
  },
  {
   "cell_type": "markdown",
   "id": "4861fb11-b86d-4148-86d1-80f43f308ff4",
   "metadata": {},
   "source": [
    ">Some of the popular languages that Data Scientists use are:\n",
    "<ol>\n",
    "<li>Python</li>\n",
    "<li>R</li>\n",
    "<li>SQL</li>\n",
    "</ol>"
   ]
  },
  {
   "cell_type": "markdown",
   "id": "2eae292b-455d-4043-8c86-1d737ebfada8",
   "metadata": {},
   "source": [
    ">Some of the commonly used libraries used by Data Scientists include:\n",
    "<ol>\n",
    "<li>Tensorflow</li>\n",
    "<li>Numpy</li>\n",
    "<li>Pandas</li>\n",
    "</ol>"
   ]
  },
  {
   "cell_type": "markdown",
   "id": "1d6b7397-83d2-420d-a865-0eb15b7107bd",
   "metadata": {},
   "source": [
    "| Data Science Tools | \n",
    "| :- | \n",
    "| Apache Hadoop |\n",
    "| Apache Spark|\n",
    "| Jupyter Notebook |"
   ]
  },
  {
   "cell_type": "markdown",
   "id": "060d333d-7333-42c1-8444-dc29b9d5c7fe",
   "metadata": {},
   "source": [
    ">Below are a few examples of evaluating arithmetic expressions in Python"
   ]
  },
  {
   "cell_type": "code",
   "execution_count": 10,
   "id": "50b7bf33-35d8-4db7-b5bb-2db6e5c83320",
   "metadata": {
    "tags": []
   },
   "outputs": [
    {
     "data": {
      "text/plain": [
       "7"
      ]
     },
     "execution_count": 10,
     "metadata": {},
     "output_type": "execute_result"
    }
   ],
   "source": [
    "5+2"
   ]
  },
  {
   "cell_type": "code",
   "execution_count": 9,
   "id": "65f244b8-5bc2-4ae5-bb3f-b70a00b69c43",
   "metadata": {
    "tags": []
   },
   "outputs": [
    {
     "data": {
      "text/plain": [
       "3"
      ]
     },
     "execution_count": 9,
     "metadata": {},
     "output_type": "execute_result"
    }
   ],
   "source": [
    "5-2"
   ]
  },
  {
   "cell_type": "code",
   "execution_count": 6,
   "id": "d4a408e5-015c-4ed5-8adb-64284c4c251b",
   "metadata": {
    "tags": []
   },
   "outputs": [
    {
     "data": {
      "text/plain": [
       "10"
      ]
     },
     "execution_count": 6,
     "metadata": {},
     "output_type": "execute_result"
    }
   ],
   "source": [
    "5*2"
   ]
  },
  {
   "cell_type": "code",
   "execution_count": 7,
   "id": "77e8df74-0e31-4c4f-9887-f3bf25ba0ec7",
   "metadata": {
    "tags": []
   },
   "outputs": [
    {
     "data": {
      "text/plain": [
       "2.5"
      ]
     },
     "execution_count": 7,
     "metadata": {},
     "output_type": "execute_result"
    }
   ],
   "source": [
    "5/2"
   ]
  },
  {
   "cell_type": "markdown",
   "id": "10152fc8-3a2a-4009-85bb-cd860223f966",
   "metadata": {},
   "source": [
    "#This a simple arithmetic expression to mutiply then add integers\n"
   ]
  },
  {
   "cell_type": "code",
   "execution_count": 11,
   "id": "7ce5fb34-5b53-4b1b-9020-aa50087cf6a3",
   "metadata": {
    "tags": []
   },
   "outputs": [
    {
     "data": {
      "text/plain": [
       "17"
      ]
     },
     "execution_count": 11,
     "metadata": {},
     "output_type": "execute_result"
    }
   ],
   "source": [
    "(3*4)+5"
   ]
  },
  {
   "cell_type": "markdown",
   "id": "d9d9abeb-d715-482a-908c-748046300a65",
   "metadata": {},
   "source": [
    "#This will convert 200 minutes to hours by diving by 60"
   ]
  },
  {
   "cell_type": "code",
   "execution_count": 12,
   "id": "fa540398-a72c-4d56-9948-1635764887d9",
   "metadata": {
    "tags": []
   },
   "outputs": [
    {
     "data": {
      "text/plain": [
       "3.3333333333333335"
      ]
     },
     "execution_count": 12,
     "metadata": {},
     "output_type": "execute_result"
    }
   ],
   "source": [
    "200/60"
   ]
  },
  {
   "cell_type": "markdown",
   "id": "80e42e17-9e70-4674-a6eb-16bb3afcc04f",
   "metadata": {},
   "source": [
    "<h2>Author</h2>\n",
    "Muhammad Nauman"
   ]
  },
  {
   "cell_type": "code",
   "execution_count": null,
   "id": "4fd24929-9c00-493a-a333-6d5f3ce8fe51",
   "metadata": {},
   "outputs": [],
   "source": []
  }
 ],
 "metadata": {
  "kernelspec": {
   "display_name": "Python",
   "language": "python",
   "name": "conda-env-python-py"
  },
  "language_info": {
   "codemirror_mode": {
    "name": "ipython",
    "version": 3
   },
   "file_extension": ".py",
   "mimetype": "text/x-python",
   "name": "python",
   "nbconvert_exporter": "python",
   "pygments_lexer": "ipython3",
   "version": "3.7.12"
  }
 },
 "nbformat": 4,
 "nbformat_minor": 5
}
